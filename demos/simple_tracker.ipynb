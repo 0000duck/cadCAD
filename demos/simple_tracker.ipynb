{
 "cells": [
  {
   "cell_type": "markdown",
   "metadata": {},
   "source": [
    "# SIMCad Demos: Simple Tracker"
   ]
  },
  {
   "cell_type": "markdown",
   "metadata": {},
   "source": [
    "# Configuration\n",
    "We begin with a simple configuration file that only defines a single exogenous state: a sinusoidal `signal`"
   ]
  },
  {
   "cell_type": "code",
   "execution_count": 1,
   "metadata": {},
   "outputs": [],
   "source": [
    "# SimCAD related imports\n",
    "from datetime import timedelta\n",
    "from SimCAD.configuration import Configuration\n",
    "from SimCAD.configuration.utils import exo_update_per_ts, ep_time_step\n",
    "\n",
    "# System specific imports\n",
    "import numpy as np\n",
    "\n",
    "# # # # # # # # # # # # # # # # # # # # # # # # # # # # # # # # # # # # # # # # # # # # # # # # \n",
    "# List of all the states in the system and their initial conditions\n",
    "# In the current version of SimCAD, `timestamp` is mandatory\n",
    "# The `signal` state is the exogenous state that we'll model\n",
    "initial_conditions = {\n",
    "    'signal': float(0),\n",
    "    'timestamp': '2018-01-01 00:00:00'\n",
    "}\n",
    "# # # # # # # # # # # # # # # # # # # # # # # # # # # # # # # # # # # # # # # # # # # # # # # # \n",
    "\n",
    "\n",
    "\n",
    "# # # # # # # # # # # # # # # # # # # # # # # # # # # # # # # # # # # # # # # # # # # # # # # # \n",
    "# Definitions of functions that update the exogenous states\n",
    "# Functions must return a tuple containing the name of the state being updated and its new value\n",
    "# For now, ignore all the arguments passed to the function, except `s`, \n",
    "# which contains a copy of the current values of all the states\n",
    "\n",
    "# Definition of the function that updates the `timestamp` state\n",
    "# In the current version of SimCAD, `timestamp` is a mandatory state\n",
    "ts_format = '%Y-%m-%d %H:%M:%S'\n",
    "t_delta = timedelta(days=0, minutes=0, seconds=1) # In this example, a time_step is defined as 1 second. The user can change this\n",
    "def time_model(step, sL, s, _input):\n",
    "    y = 'timestamp'\n",
    "    x = ep_time_step(s, dt_str=s['timestamp'], fromat_str=ts_format, _timedelta=t_delta)\n",
    "    return (y, x)\n",
    "\n",
    "# Definition of the function that updates the `signal` state\n",
    "# It's a simple sine wave with amplitude 1 and period 50 time_steps\n",
    "period = 50\n",
    "def sinusoid(step, sL, s, _input):\n",
    "    y = 'signal'\n",
    "    x = s['time_step']\n",
    "    x = np.sin(x * 2 * np.pi / period)\n",
    "    return (y, x)\n",
    "# # # # # # # # # # # # # # # # # # # # # # # # # # # # # # # # # # # # # # # # # # # # # # # # \n",
    "\n",
    "\n",
    "# # # # # # # # # # # # # # # # # # # # # # # # # # # # # # # # # # # # # # # # # # # # # # # # \n",
    "# This maps the exogenous states to their corresponding updating functions\n",
    "exogenous_states = exo_update_per_ts(\n",
    "    {\n",
    "    'signal': sinusoid, # The `signal` state is updated by the `sinusoid` function defined above\n",
    "    'timestamp': time_model # The `timestamp` state is updated by the `time_model` function defined above\n",
    "    }\n",
    ")\n",
    "# # # # # # # # # # # # # # # # # # # # # # # # # # # # # # # # # # # # # # # # # # # # # # # # \n",
    "\n",
    "# # # # # # # # # # # # # # # # # # # # # # # # # # # # # # # # # # # # # # # # # # # # # # # # \n",
    "# Settings of general simulation parameters, unrelated to the system itself\n",
    "# `T` is the number of discrete units of time the simulation will run for\n",
    "# `N` is the number of times the simulation will be run\n",
    "# In this example, we'll run the simulation once (N=1) and its duration will be of 50 discrete units of time\n",
    "sim_config = {\n",
    "    'T': range(50),\n",
    "    'N': 1\n",
    "}\n",
    "# # # # # # # # # # # # # # # # # # # # # # # # # # # # # # # # # # # # # # # # # # # # # # # # \n",
    "\n",
    "# We'll ignore these components of the configuration for now\n",
    "env_processes = {}\n",
    "seeds = {}\n",
    "mechanisms = {}\n",
    "\n",
    "# # # # # # # # # # # # # # # # # # # # # # # # # # # # # # # # # # # # # # # # # # # # # # # # \n",
    "# The configurations above are then packaged into a `Configuration` object\n",
    "config = Configuration(sim_config=sim_config,\n",
    "                       state_dict=initial_conditions,\n",
    "                       seed=seeds,\n",
    "                       exogenous_states=exogenous_states,\n",
    "                       env_processes=env_processes,\n",
    "                       mechanisms=mechanisms)"
   ]
  },
  {
   "cell_type": "markdown",
   "metadata": {},
   "source": [
    "# Running the engine\n",
    "We are now ready to run the engine with the configuration defined above. Instantiate an ExecutionMode, an ExecutionContext and an Executor objects, passing the Configuration object to the latter. Then run the `main()` method of the Executor object, which returns the results of the experiment in the first element of a tuple."
   ]
  },
  {
   "cell_type": "code",
   "execution_count": 2,
   "metadata": {},
   "outputs": [
    {
     "name": "stdout",
     "output_type": "stream",
     "text": [
      "single_proc: [<SimCAD.configuration.Configuration object at 0x10e17e160>]\n"
     ]
    }
   ],
   "source": [
    "from SimCAD.engine import ExecutionMode, ExecutionContext, Executor\n",
    "exec_mode = ExecutionMode()\n",
    "exec_context = ExecutionContext(exec_mode.single_proc)\n",
    "executor = Executor(exec_context, [config]) # Pass the configuration object inside an array\n",
    "raw_result, tensor = executor.main() # The `main()` method returns a tuple; its first elements contains the raw results"
   ]
  },
  {
   "cell_type": "markdown",
   "metadata": {},
   "source": [
    "# Analyzing the results\n",
    "We can now convert the raw results into a DataFrame for analysis"
   ]
  },
  {
   "cell_type": "code",
   "execution_count": 3,
   "metadata": {
    "scrolled": false
   },
   "outputs": [
    {
     "data": {
      "text/plain": [
       "count    5.100000e+01\n",
       "mean    -2.493893e-17\n",
       "std      7.071068e-01\n",
       "min     -9.980267e-01\n",
       "25%     -6.845471e-01\n",
       "50%      0.000000e+00\n",
       "75%      6.845471e-01\n",
       "max      9.980267e-01\n",
       "Name: signal, dtype: float64"
      ]
     },
     "execution_count": 3,
     "metadata": {},
     "output_type": "execute_result"
    },
    {
     "data": {
      "image/png": "[encoded data removed]",
      "text/plain": [
       "<Figure size 432x288 with 1 Axes>"
      ]
     },
     "metadata": {
      "needs_background": "light"
     },
     "output_type": "display_data"
    }
   ],
   "source": [
    "%matplotlib inline\n",
    "import pandas as pd\n",
    "df = pd.DataFrame(raw_result)\n",
    "df.plot('timestamp', 'signal')\n",
    "df['signal'].describe()"
   ]
  },
  {
   "cell_type": "markdown",
   "metadata": {},
   "source": [
    "# Modelling Internal States, Mechanisms and User Behavior\n",
    "Let's now suppose we want to design a system with which an agent will interact with the intent of replicating the value of the previously defined `signal` in an internal state. The agent can read the current value of the `signal` and the current value of the internal state. And they can add or subtract any amount from the internal state."
   ]
  },
  {
   "cell_type": "markdown",
   "metadata": {},
   "source": [
    "First we redefine the `initial_conditions` object in order to add the internal state, which will call `follow`"
   ]
  },
  {
   "cell_type": "code",
   "execution_count": 4,
   "metadata": {},
   "outputs": [],
   "source": [
    "# # # # # # # # # # # # # # # # # # # # # # # # # # # # # # # # # # # # # # # # # # # # # # # # \n",
    "# List of all the states in the system and their initial conditions\n",
    "# In the current version of SimCAD, `timestamp` is mandatory\n",
    "# The `signal` state is the exogenous state that we'll model\n",
    "initial_conditions = {\n",
    "    'follow': float(1),\n",
    "    'signal': float(0),\n",
    "    'timestamp': '2018-01-01 00:00:00'\n",
    "}\n",
    "# # # # # # # # # # # # # # # # # # # # # # # # # # # # # # # # # # # # # # # # # # # # # # # # "
   ]
  },
  {
   "cell_type": "markdown",
   "metadata": {},
   "source": [
    "Next, define the function that updates the `follow` state. As defined above, all it does is add or subtract an amount from the state."
   ]
  },
  {
   "cell_type": "code",
   "execution_count": 5,
   "metadata": {},
   "outputs": [],
   "source": [
    "# # # # # # # # # # # # # # # # # # # # # # # # # # # # # # # # # # # # # # # # # # # # # # # # \n",
    "# Definitions of functions that update internal states\n",
    "# These functions must return a tuple containing the name of the state being updated and its new value\n",
    "# As with the exogenous state update functions, the `s` argument contains a copy of the current values of all the states\n",
    "# The argument `_input` contains a dictionary of inputs passed to the mechanisms by agents interacting with it \n",
    "\n",
    "#momentum term limiting my following\n",
    "theta = .2 \n",
    "\n",
    "# Definition of the function that updates the `follow` state\n",
    "def add(step, sL, s, _input):\n",
    "    y = 'follow'\n",
    "    x = (s['follow'] + _input['value'])*(1-theta)+ theta*s['follow']+.01*np.random.randn() # All the state update function does is add to the `follow` state the `value` passed to it\n",
    "    return (y, x)\n",
    "# # # # # # # # # # # # # # # # # # # # # # # # # # # # # # # # # # # # # # # # # # # # # # # # "
   ]
  },
  {
   "cell_type": "markdown",
   "metadata": {},
   "source": [
    "The policies of the agents that interact with the system through `mechanisms` are modelled as `BEHAVIORS`. In this example, we are modelling a simple behavior in which the agent reads the current state of the exogenous `signal` and of the internal state `follow` and compares them. The `return value` of the behavior function will be passed by the SimCAD engine as the `_input` argument of the mechanism"
   ]
  },
  {
   "cell_type": "code",
   "execution_count": 6,
   "metadata": {},
   "outputs": [],
   "source": [
    "# # # # # # # # # # # # # # # # # # # # # # # # # # # # # # # # # # # # # # # # # # # # # # # # \n",
    "# Definitions of the Behavioral Models (or Behaviors for short) - functions that convey some information to mechanisms\n",
    "# Behaviors must return a dictionary containing whatever information they should pass to the mechanism they relate to\n",
    "# As with the state update functions, the `s` argument contains a copy of the current values of all the states\n",
    "\n",
    "# Definition of the `tracker` behavior\n",
    "def tracker(step, sL, s):\n",
    "    currentSignal = s['signal'] # Read the current state of the exogenous `signal`\n",
    "    currentFollow = s['follow'] # Read the current state of the internal state `follow`\n",
    "    diff = currentSignal - currentFollow # Compare the two\n",
    "    return {'value': diff} # Return the difference between them"
   ]
  },
  {
   "cell_type": "markdown",
   "metadata": {},
   "source": [
    "Finally, we map mechanisms to states and behaviors. In our example, we define that a mechanism called `simple_mechanism` updates the `follow` state through the `add` function, driven by the `tracker` behavior."
   ]
  },
  {
   "cell_type": "code",
   "execution_count": 7,
   "metadata": {},
   "outputs": [],
   "source": [
    "mechanisms = {\n",
    "    'simple_mechanism': { # The name of the mechanism; can be anything\n",
    "        'behaviors': { # Dictionary of behavioral models related to this mechanism\n",
    "            'behavior_group_1': tracker # The name of the behavior (key), followed by the function that defines it\n",
    "        },\n",
    "        'states': { # Dictionary of states updated by this mechanism\n",
    "            'follow': add # The name of the state (key) followed by the function that updates it\n",
    "        }\n",
    "    }\n",
    "}"
   ]
  },
  {
   "cell_type": "markdown",
   "metadata": {},
   "source": [
    "# Running the engine\n",
    "We can now recreate the Configuration object and rerun the experiment with the expanded configurations"
   ]
  },
  {
   "cell_type": "code",
   "execution_count": 8,
   "metadata": {},
   "outputs": [
    {
     "name": "stdout",
     "output_type": "stream",
     "text": [
      "single_proc: [<SimCAD.configuration.Configuration object at 0x10fe77eb8>]\n"
     ]
    }
   ],
   "source": [
    "config = Configuration(sim_config=sim_config,\n",
    "                       state_dict=initial_conditions,\n",
    "                       seed=seeds,\n",
    "                       exogenous_states=exogenous_states,\n",
    "                       env_processes=env_processes,\n",
    "                       mechanisms=mechanisms)\n",
    "executor = Executor(exec_context, [config]) # Pass the configuration object inside an array\n",
    "raw_result, tensor = executor.main() # The `main()` method returns a tuple; its first elements contains the raw results"
   ]
  },
  {
   "cell_type": "markdown",
   "metadata": {},
   "source": [
    "# Analyzing the results\n",
    "And again we convert the raw results into a DataFrame for analysis"
   ]
  },
  {
   "cell_type": "code",
   "execution_count": 9,
   "metadata": {
    "scrolled": false
   },
   "outputs": [
    {
     "data": {
      "text/html": [
       "<div>\n",
       "<style scoped>\n",
       "    .dataframe tbody tr th:only-of-type {\n",
       "        vertical-align: middle;\n",
       "    }\n",
       "\n",
       "    .dataframe tbody tr th {\n",
       "        vertical-align: top;\n",
       "    }\n",
       "\n",
       "    .dataframe thead th {\n",
       "        text-align: right;\n",
       "    }\n",
       "</style>\n",
       "<table border=\"1\" class=\"dataframe\">\n",
       "  <thead>\n",
       "    <tr style=\"text-align: right;\">\n",
       "      <th></th>\n",
       "      <th>signal</th>\n",
       "      <th>follow</th>\n",
       "    </tr>\n",
       "  </thead>\n",
       "  <tbody>\n",
       "    <tr>\n",
       "      <th>count</th>\n",
       "      <td>5.100000e+01</td>\n",
       "      <td>51.000000</td>\n",
       "    </tr>\n",
       "    <tr>\n",
       "      <th>mean</th>\n",
       "      <td>-2.493893e-17</td>\n",
       "      <td>0.024362</td>\n",
       "    </tr>\n",
       "    <tr>\n",
       "      <th>std</th>\n",
       "      <td>7.071068e-01</td>\n",
       "      <td>0.719889</td>\n",
       "    </tr>\n",
       "    <tr>\n",
       "      <th>min</th>\n",
       "      <td>-9.980267e-01</td>\n",
       "      <td>-1.008295</td>\n",
       "    </tr>\n",
       "    <tr>\n",
       "      <th>25%</th>\n",
       "      <td>-6.845471e-01</td>\n",
       "      <td>-0.683094</td>\n",
       "    </tr>\n",
       "    <tr>\n",
       "      <th>50%</th>\n",
       "      <td>0.000000e+00</td>\n",
       "      <td>0.131055</td>\n",
       "    </tr>\n",
       "    <tr>\n",
       "      <th>75%</th>\n",
       "      <td>6.845471e-01</td>\n",
       "      <td>0.722606</td>\n",
       "    </tr>\n",
       "    <tr>\n",
       "      <th>max</th>\n",
       "      <td>9.980267e-01</td>\n",
       "      <td>1.013597</td>\n",
       "    </tr>\n",
       "  </tbody>\n",
       "</table>\n",
       "</div>"
      ],
      "text/plain": [
       "             signal     follow\n",
       "count  5.100000e+01  51.000000\n",
       "mean  -2.493893e-17   0.024362\n",
       "std    7.071068e-01   0.719889\n",
       "min   -9.980267e-01  -1.008295\n",
       "25%   -6.845471e-01  -0.683094\n",
       "50%    0.000000e+00   0.131055\n",
       "75%    6.845471e-01   0.722606\n",
       "max    9.980267e-01   1.013597"
      ]
     },
     "execution_count": 9,
     "metadata": {},
     "output_type": "execute_result"
    },
    {
     "data": {
      "image/png": "[encoded data removed]",
      "text/plain": [
       "<Figure size 432x288 with 1 Axes>"
      ]
     },
     "metadata": {
      "needs_background": "light"
     },
     "output_type": "display_data"
    }
   ],
   "source": [
    "%matplotlib inline\n",
    "import pandas as pd\n",
    "df = pd.DataFrame(raw_result)\n",
    "df.plot('timestamp', ['signal','follow'])\n",
    "df[['signal','follow']].describe()"
   ]
  },
  {
   "cell_type": "code",
   "execution_count": 10,
   "metadata": {},
   "outputs": [],
   "source": [
    "df[\"error\"]= df.follow-df.signal"
   ]
  },
  {
   "cell_type": "code",
   "execution_count": 11,
   "metadata": {},
   "outputs": [
    {
     "data": {
      "text/plain": [
       "<matplotlib.axes._subplots.AxesSubplot at 0x120aab2b0>"
      ]
     },
     "execution_count": 11,
     "metadata": {},
     "output_type": "execute_result"
    },
    {
     "data": {
      "image/png": "[encoded data removed]",
      "text/plain": [
       "<Figure size 432x288 with 1 Axes>"
      ]
     },
     "metadata": {
      "needs_background": "light"
     },
     "output_type": "display_data"
    }
   ],
   "source": [
    "df.error.hist()"
   ]
  },
  {
   "cell_type": "code",
   "execution_count": null,
   "metadata": {},
   "outputs": [],
   "source": []
  }
 ],
 "metadata": {
  "kernelspec": {
   "display_name": "Python 3",
   "language": "python",
   "name": "python3"
  },
  "language_info": {
   "codemirror_mode": {
    "name": "ipython",
    "version": 3
   },
   "file_extension": ".py",
   "mimetype": "text/x-python",
   "name": "python",
   "nbconvert_exporter": "python",
   "pygments_lexer": "ipython3",
   "version": "3.7.0"
  }
 },
 "nbformat": 4,
 "nbformat_minor": 2
}
