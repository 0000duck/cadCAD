{
 "cells": [
  {
   "cell_type": "code",
   "execution_count": 1,
   "metadata": {
    "scrolled": false
   },
   "outputs": [
    {
     "name": "stdout",
     "output_type": "stream",
     "text": [
      "single_proc: [<SimCAD.configuration.Configuration object at 0x10defb4a8>]\n"
     ]
    },
    {
     "data": {
      "text/html": [
       "<div>\n",
       "<style scoped>\n",
       "    .dataframe tbody tr th:only-of-type {\n",
       "        vertical-align: middle;\n",
       "    }\n",
       "\n",
       "    .dataframe tbody tr th {\n",
       "        vertical-align: top;\n",
       "    }\n",
       "\n",
       "    .dataframe thead th {\n",
       "        text-align: right;\n",
       "    }\n",
       "</style>\n",
       "<table border=\"1\" class=\"dataframe\">\n",
       "  <thead>\n",
       "    <tr style=\"text-align: right;\">\n",
       "      <th></th>\n",
       "      <th>elapsed_time</th>\n",
       "      <th>follow</th>\n",
       "      <th>mech_step</th>\n",
       "      <th>run</th>\n",
       "      <th>signal</th>\n",
       "      <th>time_step</th>\n",
       "      <th>timestamp</th>\n",
       "    </tr>\n",
       "  </thead>\n",
       "  <tbody>\n",
       "    <tr>\n",
       "      <th>0</th>\n",
       "      <td>0.0</td>\n",
       "      <td>0.000000</td>\n",
       "      <td>0</td>\n",
       "      <td>1</td>\n",
       "      <td>0.000000</td>\n",
       "      <td>0</td>\n",
       "      <td>2018-01-01 00:00:00</td>\n",
       "    </tr>\n",
       "    <tr>\n",
       "      <th>1</th>\n",
       "      <td>1.0</td>\n",
       "      <td>0.000000</td>\n",
       "      <td>1</td>\n",
       "      <td>1</td>\n",
       "      <td>0.125333</td>\n",
       "      <td>1</td>\n",
       "      <td>2018-01-01 00:00:01</td>\n",
       "    </tr>\n",
       "    <tr>\n",
       "      <th>2</th>\n",
       "      <td>2.0</td>\n",
       "      <td>0.125333</td>\n",
       "      <td>1</td>\n",
       "      <td>1</td>\n",
       "      <td>0.248690</td>\n",
       "      <td>2</td>\n",
       "      <td>2018-01-01 00:00:02</td>\n",
       "    </tr>\n",
       "    <tr>\n",
       "      <th>3</th>\n",
       "      <td>3.0</td>\n",
       "      <td>0.248690</td>\n",
       "      <td>1</td>\n",
       "      <td>1</td>\n",
       "      <td>0.368125</td>\n",
       "      <td>3</td>\n",
       "      <td>2018-01-01 00:00:03</td>\n",
       "    </tr>\n",
       "    <tr>\n",
       "      <th>4</th>\n",
       "      <td>4.0</td>\n",
       "      <td>0.368125</td>\n",
       "      <td>1</td>\n",
       "      <td>1</td>\n",
       "      <td>0.481754</td>\n",
       "      <td>4</td>\n",
       "      <td>2018-01-01 00:00:04</td>\n",
       "    </tr>\n",
       "  </tbody>\n",
       "</table>\n",
       "</div>"
      ],
      "text/plain": [
       "   elapsed_time    follow  mech_step  run    signal  time_step  \\\n",
       "0           0.0  0.000000          0    1  0.000000          0   \n",
       "1           1.0  0.000000          1    1  0.125333          1   \n",
       "2           2.0  0.125333          1    1  0.248690          2   \n",
       "3           3.0  0.248690          1    1  0.368125          3   \n",
       "4           4.0  0.368125          1    1  0.481754          4   \n",
       "\n",
       "             timestamp  \n",
       "0  2018-01-01 00:00:00  \n",
       "1  2018-01-01 00:00:01  \n",
       "2  2018-01-01 00:00:02  \n",
       "3  2018-01-01 00:00:03  \n",
       "4  2018-01-01 00:00:04  "
      ]
     },
     "execution_count": 1,
     "metadata": {},
     "output_type": "execute_result"
    }
   ],
   "source": [
    "%matplotlib inline\n",
    "import pandas as pd\n",
    "from tabulate import tabulate\n",
    "\n",
    "from SimCAD.engine import ExecutionMode, ExecutionContext, Executor\n",
    "from demos import simple_tracker_config\n",
    "from SimCAD import configs\n",
    "\n",
    "exec_mode = ExecutionMode()\n",
    "\n",
    "single_config = [configs[0]]\n",
    "single_proc_ctx = ExecutionContext(exec_mode.single_proc)\n",
    "run1 = Executor(single_proc_ctx, single_config)\n",
    "run1_raw_result = run1.main()[0]\n",
    "result = pd.DataFrame(run1_raw_result)\n",
    "result.head()"
   ]
  },
  {
   "cell_type": "code",
   "execution_count": 2,
   "metadata": {},
   "outputs": [
    {
     "data": {
      "text/plain": [
       "<matplotlib.axes._subplots.AxesSubplot at 0x10df22cf8>"
      ]
     },
     "execution_count": 2,
     "metadata": {},
     "output_type": "execute_result"
    },
    {
     "data": {
      "image/png": "[encoded data removed]",
      "text/plain": [
       "<Figure size 432x288 with 1 Axes>"
      ]
     },
     "metadata": {},
     "output_type": "display_data"
    }
   ],
   "source": [
    "result.plot('timestamp', ['signal','follow'])\n",
    "# result.plot('timestamp', ['signal'])"
   ]
  },
  {
   "cell_type": "code",
   "execution_count": null,
   "metadata": {},
   "outputs": [],
   "source": []
  }
 ],
 "metadata": {
  "kernelspec": {
   "display_name": "Python 3",
   "language": "python",
   "name": "python3"
  },
  "language_info": {
   "codemirror_mode": {
    "name": "ipython",
    "version": 3
   },
   "file_extension": ".py",
   "mimetype": "text/x-python",
   "name": "python",
   "nbconvert_exporter": "python",
   "pygments_lexer": "ipython3",
   "version": "3.6.5"
  }
 },
 "nbformat": 4,
 "nbformat_minor": 2
}
