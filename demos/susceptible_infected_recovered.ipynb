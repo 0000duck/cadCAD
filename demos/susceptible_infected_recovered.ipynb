{
 "cells": [
  {
   "cell_type": "markdown",
   "metadata": {},
   "source": [
    "# SIR Model for Viral Marketing"
   ]
  },
  {
   "cell_type": "code",
   "execution_count": 1,
   "metadata": {
    "collapsed": true
   },
   "outputs": [],
   "source": [
    "from decimal import Decimal\n",
    "import pandas as pd\n",
    "import numpy as np\n",
    "from datetime import timedelta\n",
    "\n",
    "%matplotlib inline\n",
    "import pandas as pd\n",
    "from tabulate import tabulate\n",
    "\n",
    "from SimCAD.configuration import Configuration\n",
    "from SimCAD.configuration.utils import exo_update_per_ts, proc_trigger, bound_norm_random, \\\n",
    "    ep_time_step"
   ]
  },
  {
   "cell_type": "code",
   "execution_count": 2,
   "metadata": {
    "collapsed": true
   },
   "outputs": [],
   "source": [
    "sim_config = {\n",
    "    'N': 1,\n",
    "    'T': range(50)\n",
    "}\n",
    "\n",
    "seed = {}\n",
    "env_processes = {}\n",
    "initial_condition = {\n",
    "    'Budget': float(50),\n",
    "    'S': float(1000),\n",
    "    'I': float(10),\n",
    "    'R': float(0),\n",
    "    'beta': float(0.05), # contact rate between S and I\n",
    "    'gamma': float(0.2), # recover rate from I to R\n",
    "    'timestamp': '2019-01-01 00:00:00'\n",
    "}\n",
    "\n",
    "# Parameters\n",
    "epsilon = 0.03\n",
    "subscription_fee = 1\n",
    "incentive_cost = 10\n",
    "stickiness_cost = 5\n",
    "delta_beta = 0.1\n",
    "delta_gamma = 0.1\n",
    "\n",
    "ts_format = '%Y-%m-%d %H:%M:%S'\n",
    "t_delta = timedelta(days=0, minutes=0, seconds=1)\n",
    "def time_model(step, sL, s, _input):\n",
    "    y = 'timestamp'\n",
    "    x = ep_time_step(s, dt_str=s['timestamp'], fromat_str=ts_format, _timedelta=t_delta)\n",
    "    return (y, x)\n",
    "\n",
    "exogenous_states = exo_update_per_ts(\n",
    "    {\n",
    "    'timestamp': time_model\n",
    "    }\n",
    ")"
   ]
  },
  {
   "cell_type": "code",
   "execution_count": 3,
   "metadata": {
    "collapsed": true
   },
   "outputs": [],
   "source": [
    "# Behaviors choose actions depending on states\n",
    "# 1) increase contact rate, beta (create incentive to spread)\n",
    "# 2) decrease recover rate, gamma (improve stickiness)\n",
    "\n",
    "def add_incentive(step, sL, s):\n",
    "    delta = 0.0\n",
    "    potential_delta = s['beta'] * delta_beta\n",
    "    if (s['S'] > 3 * s['I']) and s['Budget'] > \\\n",
    "        abs(potential_delta * incentive_cost * s['S']):\n",
    "        delta = potential_delta\n",
    "    return {'delta': delta}\n",
    "\n",
    "def add_stickiness(step, sL, s):\n",
    "    delta = 0.0\n",
    "    potential_delta = s['gamma'] * delta_gamma\n",
    "    if (s['R'] > 2 * s['I']) and s['Budget'] > \\\n",
    "        abs(potential_delta * stickiness_cost * s['I']):\n",
    "        delta = potential_delta\n",
    "    return {'delta': delta}\n",
    "\n",
    "def dummy_behavior(step, sL, s):\n",
    "    return {'delta': 0.0}\n",
    "\n",
    "# Mechanisms incur cost to modify beta or gamma\n",
    "# 1) incur cost to create incentive to spread\n",
    "# 2) incur cost to improve stickiness\n",
    "\n",
    "def incur_incentive_cost(step, sL, s, _input):\n",
    "    y = 'Budget'\n",
    "    x = s['Budget'] - abs(_input['delta'] * s['S'] * incentive_cost)\n",
    "    return (y, x)\n",
    "\n",
    "def incur_stickiness_cost(step, sL, s, _input):\n",
    "    y = 'Budget'\n",
    "    x = s['Budget'] - abs(_input['delta'] * s['I'] * stickiness_cost)\n",
    "    return (y, x)\n",
    "\n",
    "def update_beta(step, sL, s, _input):\n",
    "    y = 'beta'\n",
    "    x = s['beta'] + _input['delta']\n",
    "    return (y, x)\n",
    "\n",
    "def update_gamma(step, sL, s, _input):\n",
    "    y = 'gamma'\n",
    "    x = s['gamma'] - _input['delta']\n",
    "    return (y, x)\n",
    "\n",
    "def S_model(step, sL, s, _input):\n",
    "    y = 'S'\n",
    "    x = s['S'] - s['beta'] * s['S']\n",
    "    return (y, x)\n",
    "\n",
    "def I_model(step, sL, s, _input):\n",
    "    y = 'I'\n",
    "    x = s['I'] + s['beta'] * s['S'] - s['gamma'] * s['I']\n",
    "    return (y, x)\n",
    "    \n",
    "def R_model(step, sL, s, _input):\n",
    "    y = 'R'\n",
    "    x = s['R'] + s['gamma'] * s['I']\n",
    "    return (y, x)\n",
    "\n",
    "def collect_subscription(step, sL, s, _input):\n",
    "    y = 'Budget'\n",
    "    x = s['Budget'] + s['I'] * epsilon * subscription_fee\n",
    "    return (y, x)\n",
    "\n",
    "mechanisms = {\n",
    "    'spread': {\n",
    "        'behaviors': {\n",
    "            'dummy': dummy_behavior\n",
    "        },\n",
    "        'states': {\n",
    "            'S': S_model,\n",
    "            'I': I_model,\n",
    "            'R': R_model,\n",
    "            'Budget': collect_subscription\n",
    "        }      \n",
    "    },\n",
    "    'create_incentive': {\n",
    "        'behaviors': {\n",
    "            'action': add_incentive,\n",
    "        },\n",
    "        'states': {\n",
    "            'beta': update_beta,\n",
    "            'Budget': incur_incentive_cost,\n",
    "        }\n",
    "    },\n",
    "    'improve_stickiness': {\n",
    "        'behaviors': {\n",
    "            'action': add_stickiness\n",
    "        },\n",
    "        'states': {\n",
    "            'gamma': update_gamma,\n",
    "            'Budget': incur_stickiness_cost,\n",
    "        }\n",
    "    }\n",
    "}"
   ]
  },
  {
   "cell_type": "code",
   "execution_count": 4,
   "metadata": {},
   "outputs": [
    {
     "name": "stdout",
     "output_type": "stream",
     "text": [
      "single_proc: [<SimCAD.configuration.Configuration object at 0x11768bf98>]\n"
     ]
    }
   ],
   "source": [
    "config = Configuration(\n",
    "            sim_config=sim_config,\n",
    "            state_dict=initial_condition,\n",
    "            seed=seed,\n",
    "            exogenous_states=exogenous_states,\n",
    "            env_processes=env_processes,\n",
    "            mechanisms=mechanisms)\n",
    "\n",
    "from SimCAD.engine import ExecutionMode, ExecutionContext, Executor\n",
    "exec_mode = ExecutionMode()\n",
    "exec_context = ExecutionContext(exec_mode.single_proc)\n",
    "executor = Executor(exec_context, [config]) # Pass the configuration object inside an array\n",
    "raw_result, tensor = executor.main()"
   ]
  },
  {
   "cell_type": "code",
   "execution_count": 5,
   "metadata": {},
   "outputs": [],
   "source": [
    "df = pd.DataFrame(raw_result)"
   ]
  },
  {
   "cell_type": "code",
   "execution_count": 6,
   "metadata": {
    "scrolled": true
   },
   "outputs": [
    {
     "data": {
      "text/plain": [
       "<matplotlib.axes._subplots.AxesSubplot at 0x117784668>"
      ]
     },
     "execution_count": 6,
     "metadata": {},
     "output_type": "execute_result"
    },
    {
     "data": {
      "image/png": "[encoded data removed]",
      "text/plain": [
       "<matplotlib.figure.Figure at 0x11768be80>"
      ]
     },
     "metadata": {},
     "output_type": "display_data"
    }
   ],
   "source": [
    "df.plot('timestamp', ['S','I', 'R'])"
   ]
  },
  {
   "cell_type": "code",
   "execution_count": 7,
   "metadata": {},
   "outputs": [
    {
     "data": {
      "text/plain": [
       "<matplotlib.axes._subplots.AxesSubplot at 0x11ab393c8>"
      ]
     },
     "execution_count": 7,
     "metadata": {},
     "output_type": "execute_result"
    },
    {
     "data": {
      "image/png": "[encoded data removed]",
      "text/plain": [
       "<matplotlib.figure.Figure at 0x11ab21be0>"
      ]
     },
     "metadata": {},
     "output_type": "display_data"
    }
   ],
   "source": [
    "df.plot('timestamp', ['beta', 'gamma'])"
   ]
  },
  {
   "cell_type": "code",
   "execution_count": 8,
   "metadata": {},
   "outputs": [
    {
     "data": {
      "text/plain": [
       "<matplotlib.axes._subplots.AxesSubplot at 0x11ac1d710>"
      ]
     },
     "execution_count": 8,
     "metadata": {},
     "output_type": "execute_result"
    },
    {
     "data": {
      "image/png": "[encoded data removed]",
      "text/plain": [
       "<matplotlib.figure.Figure at 0x11abda4e0>"
      ]
     },
     "metadata": {},
     "output_type": "display_data"
    }
   ],
   "source": [
    "df.plot('timestamp', ['Budget', 'I'])"
   ]
  },
  {
   "cell_type": "code",
   "execution_count": 9,
   "metadata": {},
   "outputs": [
    {
     "data": {
      "text/html": [
       "<div>\n",
       "<style>\n",
       "    .dataframe thead tr:only-child th {\n",
       "        text-align: right;\n",
       "    }\n",
       "\n",
       "    .dataframe thead th {\n",
       "        text-align: left;\n",
       "    }\n",
       "\n",
       "    .dataframe tbody tr th {\n",
       "        vertical-align: top;\n",
       "    }\n",
       "</style>\n",
       "<table border=\"1\" class=\"dataframe\">\n",
       "  <thead>\n",
       "    <tr style=\"text-align: right;\">\n",
       "      <th></th>\n",
       "      <th>S</th>\n",
       "      <th>I</th>\n",
       "      <th>R</th>\n",
       "    </tr>\n",
       "  </thead>\n",
       "  <tbody>\n",
       "    <tr>\n",
       "      <th>count</th>\n",
       "      <td>151.000000</td>\n",
       "      <td>151.000000</td>\n",
       "      <td>151.000000</td>\n",
       "    </tr>\n",
       "    <tr>\n",
       "      <th>mean</th>\n",
       "      <td>315.519268</td>\n",
       "      <td>150.861455</td>\n",
       "      <td>543.619277</td>\n",
       "    </tr>\n",
       "    <tr>\n",
       "      <th>std</th>\n",
       "      <td>262.343126</td>\n",
       "      <td>23.127729</td>\n",
       "      <td>258.137254</td>\n",
       "    </tr>\n",
       "    <tr>\n",
       "      <th>min</th>\n",
       "      <td>46.767724</td>\n",
       "      <td>10.000000</td>\n",
       "      <td>0.000000</td>\n",
       "    </tr>\n",
       "    <tr>\n",
       "      <th>25%</th>\n",
       "      <td>98.897388</td>\n",
       "      <td>142.907707</td>\n",
       "      <td>369.363864</td>\n",
       "    </tr>\n",
       "    <tr>\n",
       "      <th>50%</th>\n",
       "      <td>222.600751</td>\n",
       "      <td>151.473138</td>\n",
       "      <td>644.034432</td>\n",
       "    </tr>\n",
       "    <tr>\n",
       "      <th>75%</th>\n",
       "      <td>470.722775</td>\n",
       "      <td>163.532271</td>\n",
       "      <td>763.921377</td>\n",
       "    </tr>\n",
       "    <tr>\n",
       "      <th>max</th>\n",
       "      <td>1000.000000</td>\n",
       "      <td>179.316172</td>\n",
       "      <td>797.102843</td>\n",
       "    </tr>\n",
       "  </tbody>\n",
       "</table>\n",
       "</div>"
      ],
      "text/plain": [
       "                 S           I           R\n",
       "count   151.000000  151.000000  151.000000\n",
       "mean    315.519268  150.861455  543.619277\n",
       "std     262.343126   23.127729  258.137254\n",
       "min      46.767724   10.000000    0.000000\n",
       "25%      98.897388  142.907707  369.363864\n",
       "50%     222.600751  151.473138  644.034432\n",
       "75%     470.722775  163.532271  763.921377\n",
       "max    1000.000000  179.316172  797.102843"
      ]
     },
     "execution_count": 9,
     "metadata": {},
     "output_type": "execute_result"
    }
   ],
   "source": [
    "df[['S','I', 'R']].describe()"
   ]
  },
  {
   "cell_type": "code",
   "execution_count": null,
   "metadata": {
    "collapsed": true
   },
   "outputs": [],
   "source": []
  }
 ],
 "metadata": {
  "kernelspec": {
   "display_name": "Python 3",
   "language": "python",
   "name": "python3"
  },
  "language_info": {
   "codemirror_mode": {
    "name": "ipython",
    "version": 3
   },
   "file_extension": ".py",
   "mimetype": "text/x-python",
   "name": "python",
   "nbconvert_exporter": "python",
   "pygments_lexer": "ipython3",
   "version": "3.6.1"
  }
 },
 "nbformat": 4,
 "nbformat_minor": 2
}
